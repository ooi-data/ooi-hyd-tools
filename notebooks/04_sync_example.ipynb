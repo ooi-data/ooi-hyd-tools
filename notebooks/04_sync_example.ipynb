{
 "cells": [
  {
   "cell_type": "code",
   "execution_count": 1,
   "id": "f173e272-39e6-4a19-b499-e62ff5933553",
   "metadata": {},
   "outputs": [],
   "source": [
    "from ooi_hyd_tools.cloud import sync_png_nc_to_s3\n",
    "from pathlib import Path"
   ]
  },
  {
   "cell_type": "code",
   "execution_count": 2,
   "id": "b805586e-c3b2-46b4-9fcf-f05c875f7040",
   "metadata": {},
   "outputs": [
    {
     "data": {
      "text/plain": [
       "'/Users/joeduprey/repos/ooi-hyd-tools/notebooks'"
      ]
     },
     "execution_count": 2,
     "metadata": {},
     "output_type": "execute_result"
    }
   ],
   "source": [
    "pwd"
   ]
  },
  {
   "cell_type": "code",
   "execution_count": 3,
   "id": "4068f757-c729-49bb-92d1-31a0d452a8a8",
   "metadata": {},
   "outputs": [
    {
     "name": "stdout",
     "output_type": "stream",
     "text": [
      "Uploading ../output/HYDBBA105_20250303.nc to s3://ooi-acoustic-data/hmb/2025/HYDBBA105/HYDBBA105_20250303.nc\n",
      "Uploading ../output/HYDBBA105_20250224.nc to s3://ooi-acoustic-data/hmb/2025/HYDBBA105/HYDBBA105_20250224.nc\n",
      "Uploading ../output/HYDBBA105_20250301.nc to s3://ooi-acoustic-data/hmb/2025/HYDBBA105/HYDBBA105_20250301.nc\n",
      "Uploading ../output/HYDBBA105_20250304.nc to s3://ooi-acoustic-data/hmb/2025/HYDBBA105/HYDBBA105_20250304.nc\n",
      "Uploading ../output/HYDBBA105_20250304.png to s3://ooi-acoustic-data/spectrograms/2025/HYDBBA105/HYDBBA105_20250304.png\n",
      "Uploading ../output/HYDBBA105_20250303.png to s3://ooi-acoustic-data/spectrograms/2025/HYDBBA105/HYDBBA105_20250303.png\n",
      "Uploading ../output/HYDBBA105_20250301.png to s3://ooi-acoustic-data/spectrograms/2025/HYDBBA105/HYDBBA105_20250301.png\n",
      "Uploading ../output/HYDBBA105_20250224.png to s3://ooi-acoustic-data/spectrograms/2025/HYDBBA105/HYDBBA105_20250224.png\n"
     ]
    }
   ],
   "source": [
    "sync_png_nc_to_s3(\"CE04OSBP-LJ01C-11-HYDBBA105\", \"2025/02/24\", Path(\"../output\"))"
   ]
  },
  {
   "cell_type": "code",
   "execution_count": null,
   "id": "3bbe0c80-cf78-451d-a448-36b1ba408a75",
   "metadata": {},
   "outputs": [],
   "source": []
  }
 ],
 "metadata": {
  "kernelspec": {
   "display_name": "Python 3 (ipykernel)",
   "language": "python",
   "name": "python3"
  },
  "language_info": {
   "codemirror_mode": {
    "name": "ipython",
    "version": 3
   },
   "file_extension": ".py",
   "mimetype": "text/x-python",
   "name": "python",
   "nbconvert_exporter": "python",
   "pygments_lexer": "ipython3",
   "version": "3.11.11"
  }
 },
 "nbformat": 4,
 "nbformat_minor": 5
}
