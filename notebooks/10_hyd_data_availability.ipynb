{
 "cells": [
  {
   "cell_type": "code",
   "execution_count": 41,
   "id": "1c38e8d8-3b85-4353-ab66-068f08d9f0cd",
   "metadata": {},
   "outputs": [],
   "source": [
    "import boto3\n",
    "\n",
    "s3 = boto3.client(\"s3\")\n",
    "bucket = \"ooi-rca-qaqc-prod\""
   ]
  },
  {
   "cell_type": "code",
   "execution_count": 44,
   "id": "bac1d041-1683-44d0-96f7-0d36741bacc9",
   "metadata": {},
   "outputs": [],
   "source": [
    "\n",
    "def generate_data_availability(instrument, year):\n",
    "\n",
    "    year = int(year)\n",
    "    prefix = f\"spectrograms/{year}/{instrument}/\"\n",
    "\n",
    "    response = s3.list_objects_v2(Bucket=bucket, Prefix=prefix)\n",
    "\n",
    "    files = []\n",
    "    for obj in response.get(\"Contents\", []):\n",
    "        files.append(obj[\"Key\"])\n",
    "\n",
    "    date_re = re.compile(r'(\\d{8})\\.png$')\n",
    "\n",
    "    present = set()\n",
    "    \n",
    "    for f in files:\n",
    "        m = date_re.search(f)\n",
    "        if m:\n",
    "            ymd = m.group(1)\n",
    "            d = date(int(ymd[:4]), int(ymd[4:6]), int(ymd[6:8]))\n",
    "            present.add(d)\n",
    "\n",
    "    # build full year\n",
    "    start, end = date(year,1,1), date(year+1,1,1)\n",
    "    days = []\n",
    "    cur = start\n",
    "    while cur < end:\n",
    "        days.append(cur)\n",
    "        cur += timedelta(days=1)\n",
    "\n",
    "    df = pd.DataFrame({\n",
    "        \"date\": pd.to_datetime(days), \n",
    "        \"has_data\": [d in present for d in days],\n",
    "        })\n",
    "\n",
    "    return df"
   ]
  },
  {
   "cell_type": "code",
   "execution_count": 45,
   "id": "5b0fd2a6-594f-4e79-a4f2-7e7e8439db6e",
   "metadata": {},
   "outputs": [],
   "source": [
    "df = generate_data_availability('HYDBBA102', '2024')"
   ]
  },
  {
   "cell_type": "code",
   "execution_count": 46,
   "id": "c42bfc10-6faf-484c-a7be-b3d23c80e997",
   "metadata": {},
   "outputs": [
    {
     "data": {
      "text/html": [
       "<div>\n",
       "<style scoped>\n",
       "    .dataframe tbody tr th:only-of-type {\n",
       "        vertical-align: middle;\n",
       "    }\n",
       "\n",
       "    .dataframe tbody tr th {\n",
       "        vertical-align: top;\n",
       "    }\n",
       "\n",
       "    .dataframe thead th {\n",
       "        text-align: right;\n",
       "    }\n",
       "</style>\n",
       "<table border=\"1\" class=\"dataframe\">\n",
       "  <thead>\n",
       "    <tr style=\"text-align: right;\">\n",
       "      <th></th>\n",
       "      <th>date</th>\n",
       "      <th>has_data</th>\n",
       "    </tr>\n",
       "  </thead>\n",
       "  <tbody>\n",
       "    <tr>\n",
       "      <th>0</th>\n",
       "      <td>2024-01-01</td>\n",
       "      <td>True</td>\n",
       "    </tr>\n",
       "    <tr>\n",
       "      <th>1</th>\n",
       "      <td>2024-01-02</td>\n",
       "      <td>True</td>\n",
       "    </tr>\n",
       "    <tr>\n",
       "      <th>2</th>\n",
       "      <td>2024-01-03</td>\n",
       "      <td>True</td>\n",
       "    </tr>\n",
       "    <tr>\n",
       "      <th>3</th>\n",
       "      <td>2024-01-04</td>\n",
       "      <td>True</td>\n",
       "    </tr>\n",
       "    <tr>\n",
       "      <th>4</th>\n",
       "      <td>2024-01-05</td>\n",
       "      <td>True</td>\n",
       "    </tr>\n",
       "  </tbody>\n",
       "</table>\n",
       "</div>"
      ],
      "text/plain": [
       "        date  has_data\n",
       "0 2024-01-01      True\n",
       "1 2024-01-02      True\n",
       "2 2024-01-03      True\n",
       "3 2024-01-04      True\n",
       "4 2024-01-05      True"
      ]
     },
     "execution_count": 46,
     "metadata": {},
     "output_type": "execute_result"
    }
   ],
   "source": [
    "df.head()"
   ]
  },
  {
   "cell_type": "code",
   "execution_count": null,
   "id": "85df662e-e50b-43f8-9fa1-3878fe9896f1",
   "metadata": {},
   "outputs": [],
   "source": []
  }
 ],
 "metadata": {
  "kernelspec": {
   "display_name": "Python 3 (ipykernel)",
   "language": "python",
   "name": "python3"
  },
  "language_info": {
   "codemirror_mode": {
    "name": "ipython",
    "version": 3
   },
   "file_extension": ".py",
   "mimetype": "text/x-python",
   "name": "python",
   "nbconvert_exporter": "python",
   "pygments_lexer": "ipython3",
   "version": "3.11.13"
  }
 },
 "nbformat": 4,
 "nbformat_minor": 5
}
