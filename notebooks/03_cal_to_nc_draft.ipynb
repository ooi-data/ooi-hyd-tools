{
 "cells": [
  {
   "cell_type": "code",
   "execution_count": 1,
   "id": "5e7a7cac-6698-4df7-8573-ba5d552043dd",
   "metadata": {},
   "outputs": [],
   "source": [
    "import xarray as xr\n",
    "\n",
    "from pydantic import BaseModel, constr, field_validator, ValidationInfo, model_validator\n",
    "from datetime import datetime\n",
    "from typing import List, Any, Optional\n",
    "import matplotlib.pyplot as plt\n",
    "import matplotlib.ticker as ticker"
   ]
  },
  {
   "cell_type": "code",
   "execution_count": 2,
   "id": "b844951a-bbba-4c86-b343-52bb3dc5febe",
   "metadata": {},
   "outputs": [],
   "source": [
    "class HydCal(BaseModel):\n",
    "    refdes: constr(min_length=27, max_length=27)\n",
    "    deployment: str\n",
    "    asset_id: constr(min_length=17, max_length=17)\n",
    "    model: str\n",
    "    sn: int\n",
    "    cal_date: datetime\n",
    "    frequencies: List[float]\n",
    "    sens: List[float] = None\n",
    "    sens0: List[float] = None\n",
    "    sens90: List[float] = None\n",
    "    ds: Any = None\n",
    "    rca_bb_offset: float = 128.9\n",
    "\n",
    "    @model_validator(mode=\"after\")\n",
    "    def convert_date(self):\n",
    "        \"\"\"Convert cal_date to an ISO 8601 string immediately after instantiation.\"\"\"\n",
    "        self.cal_date = self.cal_date.strftime(\"%Y-%m-%dT%H:%M:%S.%fZ\")\n",
    "        return self  # Must return self in a model validator\n",
    "\n",
    "    @field_validator(\"frequencies\", mode=\"before\")\n",
    "    @classmethod\n",
    "    def convert_freqs(cls, values):\n",
    "        \"\"\"Convert kHz to Hz by multiplying each element by 1000.\"\"\"\n",
    "        return [v * 1000 for v in values]\n",
    "\n",
    "    @field_validator(\"sens\")\n",
    "    @classmethod\n",
    "    def check_lengths(cls, v, info):\n",
    "        if \"frequencies\" in info.data and len(v) != len(info.data[\"frequencies\"]):\n",
    "            raise ValueError(\"sens and frequencies must be the same length\")\n",
    "        return v\n",
    "\n",
    "    def make_ndarray(self):\n",
    "        if self.sens is not None:\n",
    "            print(\"creating only a single sensitivity data var\")\n",
    "            self.ds = xr.Dataset(\n",
    "            data_vars={\n",
    "                \"sensitivity\": ([\"frequency\"], self.sens),\n",
    "            },\n",
    "            coords={\n",
    "                \"frequency\": self.frequencies,\n",
    "            },\n",
    "            attrs={\n",
    "                \"asset_id\": self.asset_id,\n",
    "                \"model\": self.model,\n",
    "                \"serial_number\": self.sn,\n",
    "                \"calibration_date\": self.cal_date,\n",
    "            }\n",
    "            )\n",
    "        elif self.sens0 is not None and self.sens90 is not None:\n",
    "            print(\"creating both 0 and 90 degree sensitivities\")\n",
    "            self.ds = xr.Dataset(\n",
    "            data_vars={\n",
    "                \"sensitivity_0\": ([\"frequency\"], self.sens0),\n",
    "                \"sensitivity_90\": ([\"frequency\"], self.sens90),\n",
    "            },\n",
    "            coords={\n",
    "                \"frequency\": self.frequencies,\n",
    "            },\n",
    "            attrs={\n",
    "                \"asset_id\": self.asset_id,\n",
    "                \"model\": self.model,\n",
    "                \"serial_number\": self.sn,\n",
    "                \"calibration_date\": self.cal_date,\n",
    "            }\n",
    "            )\n",
    "            \n",
    "\n",
    "    def save_cal(self):\n",
    "        self.ds.to_netcdf(f\"../metadata/cals/{refdes}_{deployment}.nc\", mode=\"w\")\n",
    "\n",
    "    def save_correction_cal(self):\n",
    "        if self.sens is not None:\n",
    "            self.ds[\"sensitivity\"] = self.ds[\"sensitivity\"] + self.rca_bb_offset \n",
    "        elif self.sens0 is not None and self.sens90 is not None:\n",
    "            self.ds[\"sensitivity\"] = (self.ds[\"sensitivity_0\"] + self.ds[\"sensitivity_90\"]) / 2\n",
    "            self.ds[\"sensitivity\"] = self.ds[\"sensitivity\"] + self.rca_bb_offset \n",
    "\n",
    "        self.ds.to_netcdf(f\"../metadata/rca_correction_cals/{refdes}_{deployment}.nc\", mode=\"w\")\n",
    "        \n",
    "        "
   ]
  },
  {
   "cell_type": "code",
   "execution_count": 3,
   "id": "cdfa9a7f-9f99-44c5-b805-7b36938e953e",
   "metadata": {},
   "outputs": [],
   "source": [
    "refdes = \"CE02SHBP-LJ01D-11-HYDBBA106\"\n",
    "deployment = \"11\""
   ]
  },
  {
   "cell_type": "code",
   "execution_count": 4,
   "id": "41f1d5c6-ebfd-4743-b11c-d23d9a23bf94",
   "metadata": {},
   "outputs": [],
   "source": [
    "asset_id = \"ATOSU-58324-00014\"  #\n",
    "model = \"SB35-ETH\"  #\n",
    "sn = 1248  #\n",
    "cal_date = datetime(2021, 11, 18)  #\n",
    "frequency = [\n",
    "    0.0,\n",
    "    10.0,\n",
    "    20.1,\n",
    "    30.1,\n",
    "    40.2,\n",
    "    50.2,\n",
    "    60.2,\n",
    "    70.3,\n",
    "    80.3,\n",
    "    90.4,\n",
    "    100.4,\n",
    "    110.4,\n",
    "    120.5,\n",
    "    130.5,\n",
    "    140.5,\n",
    "    150.6,\n",
    "    160.6,\n",
    "    170.7,\n",
    "    180.7,\n",
    "    190.7,\n",
    "    200.0\n",
    "]\n",
    "sens0 = [\n",
    "    -171.5,\n",
    "    -171.5,\n",
    "    -173.0,\n",
    "    -172.4,\n",
    "    -171.2,\n",
    "    -173.7,\n",
    "    -172.2,\n",
    "    -173.3,\n",
    "    -174.3,\n",
    "    -174.2,\n",
    "    -173.7,\n",
    "    -172.4,\n",
    "    -172.5,\n",
    "    -171.9,\n",
    "    -171.5,\n",
    "    -170.2,\n",
    "    -169.2,\n",
    "    -168.1,\n",
    "    -170.3,\n",
    "    -170.6,\n",
    "    -173.8\n",
    "]\n",
    "sens90 = [\n",
    "    -171.3,\n",
    "    -171.3,\n",
    "    -172.7,\n",
    "    -172.7,\n",
    "    -172.3,\n",
    "    -173.7,\n",
    "    -171.5,\n",
    "    -172.7,\n",
    "    -173.9,\n",
    "    -174.5,\n",
    "    -175.7,\n",
    "    -173.9,\n",
    "    -172.1,\n",
    "    -171.2,\n",
    "    -171.4,\n",
    "    -171.2,\n",
    "    -170.5,\n",
    "    -169.1,\n",
    "    -171.7,\n",
    "    -173.3,\n",
    "    -176.0\n",
    "]"
   ]
  },
  {
   "cell_type": "code",
   "execution_count": 5,
   "id": "81443897-15f9-4073-abe2-6d503974d823",
   "metadata": {},
   "outputs": [
    {
     "name": "stdout",
     "output_type": "stream",
     "text": [
      "creating both 0 and 90 degree sensitivities\n"
     ]
    }
   ],
   "source": [
    "hyd = HydCal(\n",
    "    refdes=refdes,\n",
    "    deployment=deployment,\n",
    "    asset_id=asset_id,\n",
    "    model=model,\n",
    "    sn=sn,\n",
    "    cal_date=cal_date,\n",
    "    frequencies = frequency,\n",
    "    #sens=sensitivity,\n",
    "    sens0=sens0,\n",
    "    sens90=sens90,\n",
    "    )\n",
    "\n",
    "hyd.make_ndarray()"
   ]
  },
  {
   "cell_type": "code",
   "execution_count": 6,
   "id": "39573d2a-b95c-4eaf-9482-351b920691fc",
   "metadata": {},
   "outputs": [
    {
     "data": {
      "text/plain": [
       "'2021-11-18T00:00:00.000000Z'"
      ]
     },
     "execution_count": 6,
     "metadata": {},
     "output_type": "execute_result"
    }
   ],
   "source": [
    "hyd.cal_date"
   ]
  },
  {
   "cell_type": "code",
   "execution_count": 7,
   "id": "15611d26-2d60-47c1-be1f-7344b3708d8d",
   "metadata": {},
   "outputs": [
    {
     "ename": "AttributeError",
     "evalue": "'Dataset' object has no attribute 'sensitivity'",
     "output_type": "error",
     "traceback": [
      "\u001b[31m---------------------------------------------------------------------------\u001b[39m",
      "\u001b[31mAttributeError\u001b[39m                            Traceback (most recent call last)",
      "\u001b[36mCell\u001b[39m\u001b[36m \u001b[39m\u001b[32mIn[7]\u001b[39m\u001b[32m, line 1\u001b[39m\n\u001b[32m----> \u001b[39m\u001b[32m1\u001b[39m \u001b[43mhyd\u001b[49m\u001b[43m.\u001b[49m\u001b[43mds\u001b[49m\u001b[43m.\u001b[49m\u001b[43msensitivity\u001b[49m.plot()  \u001b[38;5;66;03m# Plot the DataArray\u001b[39;00m\n",
      "\u001b[36mFile \u001b[39m\u001b[32m~/miniconda3/envs/ooi-hyd-tools/lib/python3.11/site-packages/xarray/core/common.py:277\u001b[39m, in \u001b[36mAttrAccessMixin.__getattr__\u001b[39m\u001b[34m(self, name)\u001b[39m\n\u001b[32m    275\u001b[39m         \u001b[38;5;28;01mwith\u001b[39;00m suppress(\u001b[38;5;167;01mKeyError\u001b[39;00m):\n\u001b[32m    276\u001b[39m             \u001b[38;5;28;01mreturn\u001b[39;00m source[name]\n\u001b[32m--> \u001b[39m\u001b[32m277\u001b[39m \u001b[38;5;28;01mraise\u001b[39;00m \u001b[38;5;167;01mAttributeError\u001b[39;00m(\n\u001b[32m    278\u001b[39m     \u001b[33mf\u001b[39m\u001b[33m\"\u001b[39m\u001b[38;5;132;01m{\u001b[39;00m\u001b[38;5;28mtype\u001b[39m(\u001b[38;5;28mself\u001b[39m).\u001b[34m__name__\u001b[39m\u001b[38;5;132;01m!r}\u001b[39;00m\u001b[33m object has no attribute \u001b[39m\u001b[38;5;132;01m{\u001b[39;00mname\u001b[38;5;132;01m!r}\u001b[39;00m\u001b[33m\"\u001b[39m\n\u001b[32m    279\u001b[39m )\n",
      "\u001b[31mAttributeError\u001b[39m: 'Dataset' object has no attribute 'sensitivity'"
     ]
    }
   ],
   "source": [
    "hyd.ds.sensitivity.plot()  # Plot the DataArray"
   ]
  },
  {
   "cell_type": "code",
   "execution_count": 8,
   "id": "617a3828-fa08-443c-8652-824665b0b6ef",
   "metadata": {},
   "outputs": [
    {
     "data": {
      "text/plain": [
       "[<matplotlib.lines.Line2D at 0x1680bfa10>]"
      ]
     },
     "execution_count": 8,
     "metadata": {},
     "output_type": "execute_result"
    },
    {
     "data": {
      "image/png": "[encoded data removed]",
      "text/plain": [
       "<Figure size 640x480 with 1 Axes>"
      ]
     },
     "metadata": {},
     "output_type": "display_data"
    }
   ],
   "source": [
    "hyd.ds[\"sensitivity_0\"].plot()  # Plot the DataArray"
   ]
  },
  {
   "cell_type": "code",
   "execution_count": 9,
   "id": "ac0f132b-bd9e-445f-9b25-d0aff78fb2b1",
   "metadata": {},
   "outputs": [],
   "source": [
    "hyd.save_cal()\n",
    "hyd.save_correction_cal()"
   ]
  },
  {
   "cell_type": "code",
   "execution_count": 10,
   "id": "515b70cf-1d30-46df-ba9b-297a4622d4c6",
   "metadata": {},
   "outputs": [],
   "source": [
    "test = xr.open_dataset(f\"../metadata/rca_correction_cals/CE02SHBP-LJ01D-11-HYDBBA106_{deployment}.nc\")"
   ]
  },
  {
   "cell_type": "code",
   "execution_count": 11,
   "id": "ceb60658-5391-4f42-94d4-918ca33ada9a",
   "metadata": {},
   "outputs": [
    {
     "data": {
      "text/plain": [
       "array([-171.5, -171.5, -173. , -172.4, -171.2, -173.7, -172.2, -173.3,\n",
       "       -174.3, -174.2, -173.7, -172.4, -172.5, -171.9, -171.5, -170.2,\n",
       "       -169.2, -168.1, -170.3, -170.6, -173.8])"
      ]
     },
     "execution_count": 11,
     "metadata": {},
     "output_type": "execute_result"
    }
   ],
   "source": [
    "test.sensitivity_0.values"
   ]
  },
  {
   "cell_type": "code",
   "execution_count": 12,
   "id": "2a5f175a-7458-4161-8a4d-c7bea2fe5272",
   "metadata": {},
   "outputs": [
    {
     "data": {
      "text/plain": [
       "array([-42.5 , -42.5 , -43.95, -43.65, -42.85, -44.8 , -42.95, -44.1 ,\n",
       "       -45.2 , -45.45, -45.8 , -44.25, -43.4 , -42.65, -42.55, -41.8 ,\n",
       "       -40.95, -39.7 , -42.1 , -43.05, -46.  ])"
      ]
     },
     "execution_count": 12,
     "metadata": {},
     "output_type": "execute_result"
    }
   ],
   "source": [
    "test.sensitivity.values"
   ]
  },
  {
   "cell_type": "code",
   "execution_count": 13,
   "id": "038d86a7-1bbc-4c89-9091-c4c31ea1f175",
   "metadata": {},
   "outputs": [],
   "source": [
    "#product_viz = xr.open_dataset(\"/Users/joeduprey/repos/ooi-hyd-tools/output/HYDBBA106_20170401.nc\")"
   ]
  },
  {
   "cell_type": "code",
   "execution_count": 14,
   "id": "5b033f9b-ef1e-4b5a-ae8b-c26fdb45594f",
   "metadata": {},
   "outputs": [],
   "source": [
    "#product_viz.sensitivity.values"
   ]
  },
  {
   "cell_type": "code",
   "execution_count": 15,
   "id": "7f54e079-268e-4aff-8c27-3f091bc9f3c2",
   "metadata": {},
   "outputs": [],
   "source": [
    "def get_pypam_version() -> str:\n",
    "    try:\n",
    "        import importlib.metadata\n",
    "\n",
    "        return importlib.metadata.version(\"lifewatch-pypam\")\n",
    "    except Exception:  # pylint: disable=broad-exception-caught\n",
    "        return \"??\"\n"
   ]
  },
  {
   "cell_type": "code",
   "execution_count": 16,
   "id": "76b2eb9b-3d28-49ee-bcbf-e6cb674844b1",
   "metadata": {},
   "outputs": [
    {
     "data": {
      "text/plain": [
       "'0.3.0'"
      ]
     },
     "execution_count": 16,
     "metadata": {},
     "output_type": "execute_result"
    }
   ],
   "source": [
    "get_pypam_version()"
   ]
  },
  {
   "cell_type": "code",
   "execution_count": 18,
   "id": "52f33bc5-b5e4-4e29-8ed8-283df9e3fc47",
   "metadata": {},
   "outputs": [
    {
     "data": {
      "text/plain": [
       "'1.6.3'"
      ]
     },
     "execution_count": 18,
     "metadata": {},
     "output_type": "execute_result"
    }
   ],
   "source": [
    "import importlib\n",
    "importlib.metadata.version(\"mbari-pbp\")"
   ]
  },
  {
   "cell_type": "code",
   "execution_count": 19,
   "id": "19930c8b-94af-4e0f-b67d-cbfdd136eefc",
   "metadata": {},
   "outputs": [
    {
     "data": {
      "text/plain": [
       "'0.3.0'"
      ]
     },
     "execution_count": 19,
     "metadata": {},
     "output_type": "execute_result"
    }
   ],
   "source": [
    "importlib.metadata.version(\"lifewatch-pypam\")"
   ]
  },
  {
   "cell_type": "code",
   "execution_count": null,
   "id": "e13139ba-cdef-40e1-af33-7e2ae66f6a7b",
   "metadata": {},
   "outputs": [],
   "source": []
  }
 ],
 "metadata": {
  "kernelspec": {
   "display_name": "Python 3 (ipykernel)",
   "language": "python",
   "name": "python3"
  },
  "language_info": {
   "codemirror_mode": {
    "name": "ipython",
    "version": 3
   },
   "file_extension": ".py",
   "mimetype": "text/x-python",
   "name": "python",
   "nbconvert_exporter": "python",
   "pygments_lexer": "ipython3",
   "version": "3.11.11"
  }
 },
 "nbformat": 4,
 "nbformat_minor": 5
}
