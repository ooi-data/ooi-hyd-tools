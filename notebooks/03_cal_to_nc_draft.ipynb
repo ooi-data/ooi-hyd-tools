{
 "cells": [
  {
   "cell_type": "code",
   "execution_count": 144,
   "id": "5e7a7cac-6698-4df7-8573-ba5d552043dd",
   "metadata": {},
   "outputs": [],
   "source": [
    "import xarray as xr\n",
    "\n",
    "from pydantic import BaseModel, constr, field_validator, ValidationInfo, model_validator\n",
    "from datetime import datetime\n",
    "from typing import List, Any"
   ]
  },
  {
   "cell_type": "code",
   "execution_count": 145,
   "id": "bd2a74dd-f359-458c-b987-7d3b0b0fb35d",
   "metadata": {},
   "outputs": [],
   "source": [
    "#TODO dynamic fields based on date\n",
    "#TODO array should be same length"
   ]
  },
  {
   "cell_type": "code",
   "execution_count": 146,
   "id": "b844951a-bbba-4c86-b343-52bb3dc5febe",
   "metadata": {},
   "outputs": [],
   "source": [
    "class HydCal(BaseModel):\n",
    "    asset_id: constr(min_length=17, max_length=17)\n",
    "    model: str\n",
    "    sn: int\n",
    "    cal_date: datetime\n",
    "    frequencies: List[float]\n",
    "    sens: List[float]\n",
    "    preamp_gain: int\n",
    "    ds: Any = None\n",
    "\n",
    "    @model_validator(mode=\"after\")\n",
    "    def convert_date(self):\n",
    "        \"\"\"Convert cal_date to an ISO 8601 string immediately after instantiation.\"\"\"\n",
    "        self.cal_date = self.cal_date.strftime(\"%Y-%m-%dT%H:%M:%S.%fZ\")\n",
    "        return self  # Must return self in a model validator\n",
    "\n",
    "    @field_validator(\"sens\")\n",
    "    @classmethod\n",
    "    def check_lengths(cls, v: List[float], info: ValidationInfo):\n",
    "        if \"frequencies\" in info.data and len(v) != len(info.data[\"frequencies\"]):\n",
    "            raise ValueError(\"sens and frequencies must be the same length\")\n",
    "        return v\n",
    "\n",
    "    def make_ndarray(self):\n",
    "        self.ds = xr.Dataset(\n",
    "        data_vars={\n",
    "            \"sensitivity\": ([\"frequency\"], self.sens),\n",
    "        },\n",
    "        coords={\n",
    "            \"frequency\": self.frequencies,\n",
    "        },\n",
    "        attrs={\n",
    "            \"model\": self.model,\n",
    "            \"serial number\": self.sn,\n",
    "            \"calibration date\": self.cal_date,\n",
    "            \"preamp_gain\": self.preamp_gain,\n",
    "        }\n",
    "        )\n"
   ]
  },
  {
   "cell_type": "code",
   "execution_count": 153,
   "id": "81443897-15f9-4073-abe2-6d503974d823",
   "metadata": {},
   "outputs": [],
   "source": [
    "hyd = HydCal(\n",
    "    asset_id=\"ATOSU-58324-00014\",\n",
    "    model=\"SB35-ETH\",\n",
    "    sn=1270,\n",
    "    cal_date=datetime(2023,3,1),\n",
    "    frequencies = [13.5, 27.1, 40.6, 54.1, 67.7, 81.2, 94.7, 108.3, 121.8, 135.3, 148.8, 162.4, 175.9, 189.4, 200.0, 30_000],\n",
    "    sens=[-168.1, -169.4, -170.7, -171.4, -171.4, -171.8, -170.2, -172.6, -174.0, -172.8, -170.7, -170.1, -172.1, -174.9, -177.0, -177],\n",
    "    preamp_gain=30,\n",
    "    )\n",
    "\n",
    "hyd.make_ndarray()"
   ]
  },
  {
   "cell_type": "code",
   "execution_count": 154,
   "id": "39573d2a-b95c-4eaf-9482-351b920691fc",
   "metadata": {},
   "outputs": [
    {
     "data": {
      "text/plain": [
       "'2023-03-01T00:00:00.000000Z'"
      ]
     },
     "execution_count": 154,
     "metadata": {},
     "output_type": "execute_result"
    }
   ],
   "source": [
    "hyd.cal_date"
   ]
  },
  {
   "cell_type": "code",
   "execution_count": 155,
   "id": "15611d26-2d60-47c1-be1f-7344b3708d8d",
   "metadata": {},
   "outputs": [
    {
     "data": {
      "text/plain": [
       "[<matplotlib.lines.Line2D at 0x169b6b7d0>]"
      ]
     },
     "execution_count": 155,
     "metadata": {},
     "output_type": "execute_result"
    },
    {
     "data": {
      "image/png": "[encoded data removed]",
      "text/plain": [
       "<Figure size 640x480 with 1 Axes>"
      ]
     },
     "metadata": {},
     "output_type": "display_data"
    }
   ],
   "source": [
    "hyd.ds.sensitivity.plot()"
   ]
  },
  {
   "cell_type": "code",
   "execution_count": 157,
   "id": "ac0f132b-bd9e-445f-9b25-d0aff78fb2b1",
   "metadata": {},
   "outputs": [],
   "source": [
    "hyd.ds.to_netcdf(\"../metadata/cals/test_cal.nc\")"
   ]
  },
  {
   "cell_type": "code",
   "execution_count": null,
   "id": "515b70cf-1d30-46df-ba9b-297a4622d4c6",
   "metadata": {},
   "outputs": [],
   "source": []
  }
 ],
 "metadata": {
  "kernelspec": {
   "display_name": "Python 3 (ipykernel)",
   "language": "python",
   "name": "python3"
  },
  "language_info": {
   "codemirror_mode": {
    "name": "ipython",
    "version": 3
   },
   "file_extension": ".py",
   "mimetype": "text/x-python",
   "name": "python",
   "nbconvert_exporter": "python",
   "pygments_lexer": "ipython3",
   "version": "3.11.10"
  }
 },
 "nbformat": 4,
 "nbformat_minor": 5
}
