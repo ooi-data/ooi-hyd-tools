{
 "cells": [
  {
   "cell_type": "code",
   "execution_count": 92,
   "id": "a6a8768e-1ef4-4b14-bd75-3f864d495afe",
   "metadata": {},
   "outputs": [],
   "source": [
    "import pandas as pd \n",
    "import polars as pl\n",
    "import numpy as np\n",
    "from datetime import datetime, timezone"
   ]
  },
  {
   "cell_type": "code",
   "execution_count": 132,
   "id": "3c01e527-a015-4002-b84a-6b7e82b117ed",
   "metadata": {},
   "outputs": [],
   "source": [
    "def find_cal_file(refdes, date_str):\n",
    "    node = refdes[:8]\n",
    "    current_utc_datetime = datetime.now(timezone.utc)\n",
    "\n",
    "    date = datetime.strptime(date_str, \"%Y/%m/%d\").replace(tzinfo=timezone.utc)\n",
    "\n",
    "    # load deployments from OOI asset management\n",
    "    df = pl.read_csv(f\"https://raw.githubusercontent.com/oceanobservatories/asset-management/refs/heads/master/deployment/{node}_Deploy.csv\")\n",
    "\n",
    "    df = df.filter(pl.col(\"Reference Designator\") == refdes)\n",
    "\n",
    "    df = df.with_columns(pl.col(\"startDateTime\").str.strptime(pl.Datetime).dt.replace_time_zone(\"UTC\").alias(\"startDateTime\"))\n",
    "    df = df.with_columns(pl.col(\"stopDateTime\").str.strptime(pl.Datetime).dt.replace_time_zone(\"UTC\").alias(\"stopDateTime\"))\n",
    "    df = df.with_columns(pl.col(\"stopDateTime\").fill_null(current_utc_datetime).alias(\"stopDateTime\"))\n",
    "\n",
    "    deploy_df = df.filter((pl.col(\"startDateTime\") < date) & (pl.col(\"stopDateTime\") > date))\n",
    "    deployment_number = deploy_df[\"deploymentNumber\"]\n",
    "\n",
    "    cal_file_path = f\"./metadata/cals/{refdes}_{str(deployment_number[0])}.nc\"\n",
    "\n",
    "    print(f\"{date_str} falls under deployment < {deployment_number[0]} > for {refdes}\")\n",
    "    print(f\"cal file at {cal_file_path}\")\n",
    "    \n",
    "\n",
    "    "
   ]
  },
  {
   "cell_type": "code",
   "execution_count": 131,
   "id": "d7b4a12c-e441-494c-877a-f9267976a431",
   "metadata": {},
   "outputs": [
    {
     "name": "stdout",
     "output_type": "stream",
     "text": [
      "2025/03/31 falls under deployment < 11 > for CE02SHBP-LJ01D-11-HYDBBA106\n",
      "cal file at ./metadata/cals/CE02SHBP-LJ01D-11-HYDBBA106_11.nc\n"
     ]
    }
   ],
   "source": [
    "find_cal_file(\"CE02SHBP-LJ01D-11-HYDBBA106\", \"2025/03/31\")"
   ]
  },
  {
   "cell_type": "code",
   "execution_count": 93,
   "id": "17062600-4a3a-4a35-97cc-85a25bac2e8a",
   "metadata": {},
   "outputs": [],
   "source": [
    "REFDES = \"CE02SHBP-LJ01D-11-HYDBBA106\"\n",
    "node = REFDES[:8]\n",
    "DATE_STR = \"2025/03/31\"\n",
    "current_utc_datetime = datetime.now(timezone.utc)"
   ]
  },
  {
   "cell_type": "code",
   "execution_count": 100,
   "id": "20a2a51c-aac6-4463-a343-ce7a254fd22f",
   "metadata": {},
   "outputs": [],
   "source": [
    "date = datetime.strptime(DATE_STR, \"%Y/%m/%d\").replace(tzinfo=timezone.utc)"
   ]
  },
  {
   "cell_type": "code",
   "execution_count": 101,
   "id": "ae4c7d4f-e069-4d1b-a93e-308fcbbe24f4",
   "metadata": {},
   "outputs": [],
   "source": [
    "df = pl.read_csv(f\"https://raw.githubusercontent.com/oceanobservatories/asset-management/refs/heads/master/deployment/{node}_Deploy.csv\")"
   ]
  },
  {
   "cell_type": "code",
   "execution_count": 102,
   "id": "f2fdd288-6177-46fb-b1ec-c58b47645480",
   "metadata": {},
   "outputs": [],
   "source": [
    "df = df.filter(pl.col(\"Reference Designator\") == REFDES)"
   ]
  },
  {
   "cell_type": "code",
   "execution_count": 103,
   "id": "f793c260-10b4-4079-85b2-b0c6e1bccef9",
   "metadata": {},
   "outputs": [],
   "source": [
    "df = df.with_columns(pl.col(\"startDateTime\").str.strptime(pl.Datetime).dt.replace_time_zone(\"UTC\").alias(\"startDateTime\"))\n",
    "df = df.with_columns(pl.col(\"stopDateTime\").str.strptime(pl.Datetime).dt.replace_time_zone(\"UTC\").alias(\"stopDateTime\"))\n",
    "df = df.with_columns(pl.col(\"stopDateTime\").fill_null(current_utc_datetime).alias(\"stopDateTime\"))"
   ]
  },
  {
   "cell_type": "code",
   "execution_count": 104,
   "id": "fadc35c4-d941-45c0-a14a-30504e81d48e",
   "metadata": {},
   "outputs": [
    {
     "data": {
      "text/html": [
       "<div><style>\n",
       ".dataframe > thead > tr,\n",
       ".dataframe > tbody > tr {\n",
       "  text-align: right;\n",
       "  white-space: pre-wrap;\n",
       "}\n",
       "</style>\n",
       "<small>shape: (11, 20)</small><table border=\"1\" class=\"dataframe\"><thead><tr><th>CUID_Deploy</th><th>deployedBy</th><th>CUID_Recover</th><th>recoveredBy</th><th>Reference Designator</th><th>deploymentNumber</th><th>versionNumber</th><th>startDateTime</th><th>stopDateTime</th><th>mooring.uid</th><th>node.uid</th><th>sensor.uid</th><th>lat</th><th>lon</th><th>orbit</th><th>deployment_depth</th><th>water_depth</th><th>notes</th><th>electrical.uid</th><th>assembly_template_revision</th></tr><tr><td>str</td><td>str</td><td>str</td><td>str</td><td>str</td><td>i64</td><td>i64</td><td>datetime[μs, UTC]</td><td>datetime[μs, UTC]</td><td>str</td><td>str</td><td>str</td><td>f64</td><td>f64</td><td>str</td><td>i64</td><td>i64</td><td>str</td><td>str</td><td>str</td></tr></thead><tbody><tr><td>&quot;TN313&quot;</td><td>null</td><td>null</td><td>null</td><td>&quot;CE02SHBP-LJ01D-11-HYDBBA106&quot;</td><td>1</td><td>1</td><td>2014-09-10 15:43:00 UTC</td><td>2015-08-01 00:00:00 UTC</td><td>&quot;CE02SHBP-LJ01D-0000&quot;</td><td>&quot;ATAPL-65310-00006&quot;</td><td>&quot;ATOSU-58324-00014&quot;</td><td>44.636971</td><td>-124.305776</td><td>null</td><td>80</td><td>80</td><td>null</td><td>null</td><td>null</td></tr><tr><td>&quot;TN326&quot;</td><td>null</td><td>null</td><td>null</td><td>&quot;CE02SHBP-LJ01D-11-HYDBBA106&quot;</td><td>2</td><td>1</td><td>2015-08-02 05:47:00 UTC</td><td>2016-07-21 00:00:00 UTC</td><td>&quot;CE02SHBP-LJ01D-0000&quot;</td><td>&quot;ATAPL-65310-00009&quot;</td><td>&quot;ATOSU-58324-00012&quot;</td><td>44.637038</td><td>-124.305858</td><td>null</td><td>81</td><td>81</td><td>null</td><td>null</td><td>null</td></tr><tr><td>&quot;SKQ201610S&quot;</td><td>null</td><td>null</td><td>null</td><td>&quot;CE02SHBP-LJ01D-11-HYDBBA106&quot;</td><td>3</td><td>1</td><td>2016-07-22 22:50:00 UTC</td><td>2017-09-09 03:30:00 UTC</td><td>&quot;CE02SHBP-LJ01D-0000&quot;</td><td>&quot;ATAPL-65310-00006&quot;</td><td>&quot;ATOSU-58324-00014&quot;</td><td>44.637138</td><td>-124.305978</td><td>null</td><td>81</td><td>81</td><td>null</td><td>null</td><td>null</td></tr><tr><td>&quot;RR1717&quot;</td><td>null</td><td>null</td><td>null</td><td>&quot;CE02SHBP-LJ01D-11-HYDBBA106&quot;</td><td>4</td><td>1</td><td>2017-09-10 14:30:00 UTC</td><td>2018-06-29 02:30:00 UTC</td><td>&quot;CE02SHBP-LJ01D-0000&quot;</td><td>&quot;ATAPL-65310-00009&quot;</td><td>&quot;ATOSU-58324-00012&quot;</td><td>44.637151</td><td>-124.305963</td><td>null</td><td>77</td><td>77</td><td>null</td><td>null</td><td>null</td></tr><tr><td>&quot;RR1810&quot;</td><td>null</td><td>null</td><td>null</td><td>&quot;CE02SHBP-LJ01D-11-HYDBBA106&quot;</td><td>5</td><td>1</td><td>2018-06-30 02:30:00 UTC</td><td>2019-06-19 23:31:00 UTC</td><td>&quot;CE02SHBP-LJ01D-0000&quot;</td><td>&quot;ATAPL-65310-00006&quot;</td><td>&quot;ATOSU-58324-00015&quot;</td><td>44.637073</td><td>-124.305888</td><td>null</td><td>82</td><td>82</td><td>null</td><td>null</td><td>null</td></tr><tr><td>&hellip;</td><td>&hellip;</td><td>&hellip;</td><td>&hellip;</td><td>&hellip;</td><td>&hellip;</td><td>&hellip;</td><td>&hellip;</td><td>&hellip;</td><td>&hellip;</td><td>&hellip;</td><td>&hellip;</td><td>&hellip;</td><td>&hellip;</td><td>&hellip;</td><td>&hellip;</td><td>&hellip;</td><td>&hellip;</td><td>&hellip;</td><td>&hellip;</td></tr><tr><td>&quot;TN382&quot;</td><td>null</td><td>null</td><td>null</td><td>&quot;CE02SHBP-LJ01D-11-HYDBBA106&quot;</td><td>7</td><td>1</td><td>2020-08-25 17:34:05 UTC</td><td>2021-08-04 20:20:00 UTC</td><td>&quot;CE02SHBP-LJ01D-0000&quot;</td><td>&quot;ATAPL-65310-00006&quot;</td><td>&quot;ATOSU-58324-00014&quot;</td><td>44.637092</td><td>-124.305857</td><td>null</td><td>81</td><td>81</td><td>null</td><td>null</td><td>null</td></tr><tr><td>&quot;TN393&quot;</td><td>null</td><td>null</td><td>null</td><td>&quot;CE02SHBP-LJ01D-11-HYDBBA106&quot;</td><td>8</td><td>1</td><td>2021-08-23 19:27:00 UTC</td><td>2022-08-18 23:51:00 UTC</td><td>&quot;CE02SHBP-LJ01D-0000&quot;</td><td>&quot;ATAPL-65310-00009&quot;</td><td>&quot;ATOSU-58324-00012&quot;</td><td>44.637138</td><td>-124.305872</td><td>null</td><td>80</td><td>80</td><td>null</td><td>null</td><td>null</td></tr><tr><td>&quot;TN407&quot;</td><td>null</td><td>null</td><td>null</td><td>&quot;CE02SHBP-LJ01D-11-HYDBBA106&quot;</td><td>9</td><td>1</td><td>2022-08-19 05:55:00 UTC</td><td>2023-08-14 19:20:00 UTC</td><td>&quot;CE02SHBP-LJ01D-0000&quot;</td><td>&quot;ATAPL-65310-00006&quot;</td><td>&quot;ATOSU-58324-00014&quot;</td><td>44.637212</td><td>-124.305644</td><td>null</td><td>80</td><td>80</td><td>null</td><td>null</td><td>null</td></tr><tr><td>&quot;TN422&quot;</td><td>null</td><td>null</td><td>null</td><td>&quot;CE02SHBP-LJ01D-11-HYDBBA106&quot;</td><td>10</td><td>1</td><td>2023-08-22 14:50:00 UTC</td><td>2024-08-15 20:13:00 UTC</td><td>&quot;CE02SHBP-LJ01D-0000&quot;</td><td>&quot;ATAPL-65310-00009&quot;</td><td>&quot;ATOSU-58324-00012&quot;</td><td>44.637212</td><td>-124.305644</td><td>null</td><td>80</td><td>80</td><td>&quot;The following parameters are p…</td><td>null</td><td>null</td></tr><tr><td>&quot;AT50-29&quot;</td><td>null</td><td>null</td><td>null</td><td>&quot;CE02SHBP-LJ01D-11-HYDBBA106&quot;</td><td>11</td><td>1</td><td>2024-08-19 14:55:00 UTC</td><td>2025-04-01 16:12:42.453098 UTC</td><td>&quot;CE02SHBP-LJ01D-0000&quot;</td><td>&quot;ATAPL-65310-00006&quot;</td><td>&quot;ATOSU-58324-00014&quot;</td><td>44.637212</td><td>-124.305644</td><td>null</td><td>80</td><td>80</td><td>&quot;The following parameters are p…</td><td>null</td><td>null</td></tr></tbody></table></div>"
      ],
      "text/plain": [
       "shape: (11, 20)\n",
       "┌───────────┬───────────┬───────────┬───────────┬───┬───────────┬───────────┬───────────┬──────────┐\n",
       "│ CUID_Depl ┆ deployedB ┆ CUID_Reco ┆ recovered ┆ … ┆ water_dep ┆ notes     ┆ electrica ┆ assembly │\n",
       "│ oy        ┆ y         ┆ ver       ┆ By        ┆   ┆ th        ┆ ---       ┆ l.uid     ┆ _templat │\n",
       "│ ---       ┆ ---       ┆ ---       ┆ ---       ┆   ┆ ---       ┆ str       ┆ ---       ┆ e_revisi │\n",
       "│ str       ┆ str       ┆ str       ┆ str       ┆   ┆ i64       ┆           ┆ str       ┆ on       │\n",
       "│           ┆           ┆           ┆           ┆   ┆           ┆           ┆           ┆ ---      │\n",
       "│           ┆           ┆           ┆           ┆   ┆           ┆           ┆           ┆ str      │\n",
       "╞═══════════╪═══════════╪═══════════╪═══════════╪═══╪═══════════╪═══════════╪═══════════╪══════════╡\n",
       "│ TN313     ┆ null      ┆ null      ┆ null      ┆ … ┆ 80        ┆ null      ┆ null      ┆ null     │\n",
       "│ TN326     ┆ null      ┆ null      ┆ null      ┆ … ┆ 81        ┆ null      ┆ null      ┆ null     │\n",
       "│ SKQ201610 ┆ null      ┆ null      ┆ null      ┆ … ┆ 81        ┆ null      ┆ null      ┆ null     │\n",
       "│ S         ┆           ┆           ┆           ┆   ┆           ┆           ┆           ┆          │\n",
       "│ RR1717    ┆ null      ┆ null      ┆ null      ┆ … ┆ 77        ┆ null      ┆ null      ┆ null     │\n",
       "│ RR1810    ┆ null      ┆ null      ┆ null      ┆ … ┆ 82        ┆ null      ┆ null      ┆ null     │\n",
       "│ …         ┆ …         ┆ …         ┆ …         ┆ … ┆ …         ┆ …         ┆ …         ┆ …        │\n",
       "│ TN382     ┆ null      ┆ null      ┆ null      ┆ … ┆ 81        ┆ null      ┆ null      ┆ null     │\n",
       "│ TN393     ┆ null      ┆ null      ┆ null      ┆ … ┆ 80        ┆ null      ┆ null      ┆ null     │\n",
       "│ TN407     ┆ null      ┆ null      ┆ null      ┆ … ┆ 80        ┆ null      ┆ null      ┆ null     │\n",
       "│ TN422     ┆ null      ┆ null      ┆ null      ┆ … ┆ 80        ┆ The       ┆ null      ┆ null     │\n",
       "│           ┆           ┆           ┆           ┆   ┆           ┆ following ┆           ┆          │\n",
       "│           ┆           ┆           ┆           ┆   ┆           ┆ parameter ┆           ┆          │\n",
       "│           ┆           ┆           ┆           ┆   ┆           ┆ s are p…  ┆           ┆          │\n",
       "│ AT50-29   ┆ null      ┆ null      ┆ null      ┆ … ┆ 80        ┆ The       ┆ null      ┆ null     │\n",
       "│           ┆           ┆           ┆           ┆   ┆           ┆ following ┆           ┆          │\n",
       "│           ┆           ┆           ┆           ┆   ┆           ┆ parameter ┆           ┆          │\n",
       "│           ┆           ┆           ┆           ┆   ┆           ┆ s are p…  ┆           ┆          │\n",
       "└───────────┴───────────┴───────────┴───────────┴───┴───────────┴───────────┴───────────┴──────────┘"
      ]
     },
     "execution_count": 104,
     "metadata": {},
     "output_type": "execute_result"
    }
   ],
   "source": [
    "df"
   ]
  },
  {
   "cell_type": "code",
   "execution_count": 115,
   "id": "bda66dc8-17a2-480c-a585-bd3df9576746",
   "metadata": {},
   "outputs": [],
   "source": [
    "deploy_df = df.filter((pl.col(\"startDateTime\") < date) & (pl.col(\"stopDateTime\") > date))"
   ]
  },
  {
   "cell_type": "code",
   "execution_count": 116,
   "id": "85f7fafc-6aae-403d-ab88-d5fbf962a67d",
   "metadata": {},
   "outputs": [
    {
     "data": {
      "text/html": [
       "<div><style>\n",
       ".dataframe > thead > tr,\n",
       ".dataframe > tbody > tr {\n",
       "  text-align: right;\n",
       "  white-space: pre-wrap;\n",
       "}\n",
       "</style>\n",
       "<small>shape: (1, 20)</small><table border=\"1\" class=\"dataframe\"><thead><tr><th>CUID_Deploy</th><th>deployedBy</th><th>CUID_Recover</th><th>recoveredBy</th><th>Reference Designator</th><th>deploymentNumber</th><th>versionNumber</th><th>startDateTime</th><th>stopDateTime</th><th>mooring.uid</th><th>node.uid</th><th>sensor.uid</th><th>lat</th><th>lon</th><th>orbit</th><th>deployment_depth</th><th>water_depth</th><th>notes</th><th>electrical.uid</th><th>assembly_template_revision</th></tr><tr><td>str</td><td>str</td><td>str</td><td>str</td><td>str</td><td>i64</td><td>i64</td><td>datetime[μs, UTC]</td><td>datetime[μs, UTC]</td><td>str</td><td>str</td><td>str</td><td>f64</td><td>f64</td><td>str</td><td>i64</td><td>i64</td><td>str</td><td>str</td><td>str</td></tr></thead><tbody><tr><td>&quot;AT50-29&quot;</td><td>null</td><td>null</td><td>null</td><td>&quot;CE02SHBP-LJ01D-11-HYDBBA106&quot;</td><td>11</td><td>1</td><td>2024-08-19 14:55:00 UTC</td><td>2025-04-01 16:12:42.453098 UTC</td><td>&quot;CE02SHBP-LJ01D-0000&quot;</td><td>&quot;ATAPL-65310-00006&quot;</td><td>&quot;ATOSU-58324-00014&quot;</td><td>44.637212</td><td>-124.305644</td><td>null</td><td>80</td><td>80</td><td>&quot;The following parameters are p…</td><td>null</td><td>null</td></tr></tbody></table></div>"
      ],
      "text/plain": [
       "shape: (1, 20)\n",
       "┌───────────┬───────────┬───────────┬───────────┬───┬───────────┬───────────┬───────────┬──────────┐\n",
       "│ CUID_Depl ┆ deployedB ┆ CUID_Reco ┆ recovered ┆ … ┆ water_dep ┆ notes     ┆ electrica ┆ assembly │\n",
       "│ oy        ┆ y         ┆ ver       ┆ By        ┆   ┆ th        ┆ ---       ┆ l.uid     ┆ _templat │\n",
       "│ ---       ┆ ---       ┆ ---       ┆ ---       ┆   ┆ ---       ┆ str       ┆ ---       ┆ e_revisi │\n",
       "│ str       ┆ str       ┆ str       ┆ str       ┆   ┆ i64       ┆           ┆ str       ┆ on       │\n",
       "│           ┆           ┆           ┆           ┆   ┆           ┆           ┆           ┆ ---      │\n",
       "│           ┆           ┆           ┆           ┆   ┆           ┆           ┆           ┆ str      │\n",
       "╞═══════════╪═══════════╪═══════════╪═══════════╪═══╪═══════════╪═══════════╪═══════════╪══════════╡\n",
       "│ AT50-29   ┆ null      ┆ null      ┆ null      ┆ … ┆ 80        ┆ The       ┆ null      ┆ null     │\n",
       "│           ┆           ┆           ┆           ┆   ┆           ┆ following ┆           ┆          │\n",
       "│           ┆           ┆           ┆           ┆   ┆           ┆ parameter ┆           ┆          │\n",
       "│           ┆           ┆           ┆           ┆   ┆           ┆ s are p…  ┆           ┆          │\n",
       "└───────────┴───────────┴───────────┴───────────┴───┴───────────┴───────────┴───────────┴──────────┘"
      ]
     },
     "execution_count": 116,
     "metadata": {},
     "output_type": "execute_result"
    }
   ],
   "source": [
    "deploy_df[deployment"
   ]
  },
  {
   "cell_type": "code",
   "execution_count": 110,
   "id": "4a52acfa-391b-47a6-9ebf-7ee11b6ad60e",
   "metadata": {},
   "outputs": [
    {
     "data": {
      "text/html": [
       "<div><style>\n",
       ".dataframe > thead > tr,\n",
       ".dataframe > tbody > tr {\n",
       "  text-align: right;\n",
       "  white-space: pre-wrap;\n",
       "}\n",
       "</style>\n",
       "<small>shape: (1,)</small><table border=\"1\" class=\"dataframe\"><thead><tr><th>sensor.uid</th></tr><tr><td>str</td></tr></thead><tbody><tr><td>&quot;ATOSU-58324-00014&quot;</td></tr></tbody></table></div>"
      ],
      "text/plain": [
       "shape: (1,)\n",
       "Series: 'sensor.uid' [str]\n",
       "[\n",
       "\t\"ATOSU-58324-00014\"\n",
       "]"
      ]
     },
     "execution_count": 110,
     "metadata": {},
     "output_type": "execute_result"
    }
   ],
   "source": [
    "deploy_df[\"sensor.uid\"]"
   ]
  },
  {
   "cell_type": "code",
   "execution_count": null,
   "id": "2074e2e7-298d-4a7e-815a-1b0b8daa5f4c",
   "metadata": {},
   "outputs": [],
   "source": []
  }
 ],
 "metadata": {
  "kernelspec": {
   "display_name": "Python 3 (ipykernel)",
   "language": "python",
   "name": "python3"
  },
  "language_info": {
   "codemirror_mode": {
    "name": "ipython",
    "version": 3
   },
   "file_extension": ".py",
   "mimetype": "text/x-python",
   "name": "python",
   "nbconvert_exporter": "python",
   "pygments_lexer": "ipython3",
   "version": "3.11.11"
  }
 },
 "nbformat": 4,
 "nbformat_minor": 5
}
